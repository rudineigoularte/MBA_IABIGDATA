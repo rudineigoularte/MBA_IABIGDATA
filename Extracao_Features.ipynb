{
  "cells": [
    {
      "cell_type": "markdown",
      "metadata": {
        "id": "PibtKFHEBCRI"
      },
      "source": [
        "##**Extração de Características Visuais e Aurais**\n",
        "\n",
        "\n",
        "\n"
      ]
    },
    {
      "cell_type": "markdown",
      "metadata": {
        "id": "0XKAnMr2B45v"
      },
      "source": [
        "<h1>Instalando dependências<h1>\n"
      ]
    },
    {
      "cell_type": "markdown",
      "source": [
        "#Obtendo Dados"
      ],
      "metadata": {
        "id": "IWa7y6-29nXL"
      }
    },
    {
      "cell_type": "code",
      "source": [
        "! wget https://github.com/rudineigoularte/MBA_IABIGDATA/raw/main/videos.tar.gz\n",
        "! tar -xzvf videos.tar.gz\n",
        "! mkdir features"
      ],
      "metadata": {
        "id": "yGLmznUHMyC2"
      },
      "execution_count": null,
      "outputs": []
    },
    {
      "cell_type": "markdown",
      "metadata": {
        "id": "binvUiKsAsWf"
      },
      "source": [
        "<h1>Funções para Extração das Features Visuais</h1>"
      ]
    },
    {
      "cell_type": "code",
      "execution_count": null,
      "metadata": {
        "id": "UsV3-XovAz7a"
      },
      "outputs": [],
      "source": [
        "def sift(frame):\n",
        "    print(\"Extraindo caracterísitcas SIFT...\")\n",
        "\n",
        "    gray_frame = cv.cvtColor(frame, cv.COLOR_BGR2GRAY)\n",
        "    sift = cv.xfeatures2d.SIFT_create()\n",
        "    kp, des = sift.detectAndCompute(gray_frame, None)\n",
        "    return des\n",
        "\n",
        "def extractSift(videos):\n",
        "    #assumindo videos com 24fps; \n",
        "    #Amostragem: 1 frame a cada 3 seg -> com 24fps implica 1 frame a cada 72 frames\n",
        "    #pula-se 5s, aprox, em cada vídeo -> aberturas/vinhetas\n",
        "    \n",
        "    videoNumber = 0\n",
        "    features = dict()\n",
        "    for videoName in videos[0]:\n",
        "      print(videoName)\n",
        "      video = cv.VideoCapture(\"./videos/\"+videoName)\n",
        "\n",
        "      kf = 144\n",
        "\n",
        "      frameNumber = 1\n",
        "      bag = []\n",
        "      while video.isOpened():\n",
        "          success, frame = video.read()\n",
        "          if not success:\n",
        "                break\n",
        "          if frameNumber >= 144: #se o frame estiver além dos 5s de vídeo\n",
        "            if (frameNumber % 72) == 0:  #amostragem de 1 frame a cada 3 seg\n",
        "              kf += 72\n",
        "              bag.append(sift(frame))\n",
        "          \n",
        "          frameNumber += 1\n",
        "      features[videoNumber] = bag\n",
        "      videoNumber += 1\n",
        "\n",
        "      video.release()\n",
        "\n",
        "    return features"
      ]
    },
    {
      "cell_type": "markdown",
      "metadata": {
        "id": "kt2Ei4XeLJON"
      },
      "source": [
        "<h1>Funções para Extração de Features Aurais (MFCC)<h1>"
      ]
    },
    {
      "cell_type": "code",
      "metadata": {
        "id": "RrWl53MNK-q8"
      },
      "source": [
        "def extractMfcc(videos):\n",
        "    print(\"Extraindo caracterísitcas MFCC...\")\n",
        "    features = dict()\n",
        "    for videoName in videos[0]:    \n",
        "      video = VideoFileClip(\"./videos/\"+videoName)\n",
        "      fps = video.fps\n",
        "      duration = video.duration\n",
        "      video.close()\n",
        "\n",
        "      audio = AudioFileClip(\"./videos/\"+videoName)\n",
        "      audioClip = audio.subclip(5, duration).to_soundarray() \n",
        "      audio.close()\n",
        "      \n",
        "      features[i] = mfcc(audioClip, 44100, nfft=2048)\n",
        "      \n",
        "    return features"
      ],
      "execution_count": null,
      "outputs": []
    }
  ],
  "metadata": {
    "accelerator": "GPU",
    "colab": {
      "background_execution": "on",
      "collapsed_sections": [],
      "machine_shape": "hm",
      "name": "Extracao_Features.ipynb",
      "provenance": []
    },
    "kernelspec": {
      "display_name": "Python 3",
      "name": "python3"
    },
    "language_info": {
      "name": "python"
    }
  },
  "nbformat": 4,
  "nbformat_minor": 0
}